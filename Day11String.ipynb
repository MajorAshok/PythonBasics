{
 "cells": [
  {
   "cell_type": "markdown",
   "id": "2a52e073",
   "metadata": {},
   "source": [
    "# Day-11"
   ]
  },
  {
   "cell_type": "markdown",
   "id": "af50018d",
   "metadata": {},
   "source": [
    "# 11. Strings in Python.\n",
    "#### In pyhton anything that we enclose between single or double quotation marks is known as string.\n",
    "#### A string is eventually a sequance or array of textual data.\n",
    "##### Sometimes the user might need to put a quotation marks in between the strings.\n",
    "##### example consider the following sentence.\n",
    "##### He said, \"I want to eat an Apple\".\n",
    "##### We definitely use single quotes or double quotes for our convenience."
   ]
  },
  {
   "cell_type": "code",
   "execution_count": 1,
   "id": "82cfa86a",
   "metadata": {},
   "outputs": [
    {
     "name": "stdout",
     "output_type": "stream",
     "text": [
      "He said,\"I want to eat an apple\".\n",
      "He said,'I want to eat an apple'.\n"
     ]
    }
   ],
   "source": [
    "# Example\n",
    "print('He said,\"I want to eat an apple\".')\n",
    "print(\"He said,'I want to eat an apple'.\")"
   ]
  },
  {
   "cell_type": "markdown",
   "id": "63ea00ce",
   "metadata": {},
   "source": [
    "# Multiline Strings \n",
    "##### If our string has multiline lines, we can create them like this.\n",
    "\"\"\" This is multiline string. Enclosed between single or double three quotation marks.In the same way, we can also create multiline comment.\"\"\""
   ]
  },
  {
   "cell_type": "markdown",
   "id": "89e754a3",
   "metadata": {},
   "source": [
    "# Accessing Character of a string.\n",
    "#### In python, String is like an array of characters we can access parts of string by using its index which starts from 0."
   ]
  },
  {
   "cell_type": "code",
   "execution_count": 4,
   "id": "ee2b1863",
   "metadata": {},
   "outputs": [
    {
     "name": "stdout",
     "output_type": "stream",
     "text": [
      "H\n",
      "E\n",
      "y\n",
      "y\n",
      "E\n"
     ]
    }
   ],
   "source": [
    "# Example \n",
    "a='Hii Everyone'\n",
    "print(a[0])\n",
    "print(a[4])\n",
    "print(a[8])\n",
    "print(a[-4])\n",
    "print(a[-8])"
   ]
  },
  {
   "cell_type": "markdown",
   "id": "311afd3e",
   "metadata": {},
   "source": [
    "# Looping through the string.\n",
    "#### We can loop through strings using a for loop like this:"
   ]
  },
  {
   "cell_type": "code",
   "execution_count": 7,
   "id": "a9e95833",
   "metadata": {},
   "outputs": [
    {
     "name": "stdout",
     "output_type": "stream",
     "text": [
      "A\n",
      "s\n",
      "h\n",
      "o\n",
      "k\n"
     ]
    }
   ],
   "source": [
    "# Example\n",
    "name=\"Ashok\"\n",
    "for character in name:\n",
    "    print(character)"
   ]
  },
  {
   "cell_type": "markdown",
   "id": "05f1d40d",
   "metadata": {},
   "source": [
    "# Day-12"
   ]
  },
  {
   "cell_type": "markdown",
   "id": "c5a623e0",
   "metadata": {},
   "source": [
    "# String Slicing and operations on string in Python.\n",
    "#### Length of string\n",
    "##### We can find length of a string using len() function."
   ]
  },
  {
   "cell_type": "code",
   "execution_count": 16,
   "id": "15c12548",
   "metadata": {},
   "outputs": [
    {
     "name": "stdout",
     "output_type": "stream",
     "text": [
      "My name is  9 letter word\n",
      "\n",
      "Ash\n",
      "hok p\n",
      "M\n",
      "ng\n",
      "an\n"
     ]
    }
   ],
   "source": [
    "# example.\n",
    "name=\"Ashok pal\"\n",
    "length=len(name)  # white space is also counted as character. \n",
    "print('My name is ',length,'letter word')\n",
    "print()\n",
    "print(name[:3])\n",
    "print(name[2:7])\n",
    "\n",
    "# Negative slicing\n",
    "fruit='Mango'\n",
    "print(fruit[0:-4])\n",
    "\"\"\"Output M why?. \n",
    "So firstly let's understand how python interprets it. \n",
    "This [-4] python interpreter automatically adds the len(fruit) which implies that,[0:len(fruit)-4]\n",
    ",[0:1]\"\"\"\n",
    "print(fruit[-3:4])\n",
    "print(fruit[-4:-2])"
   ]
  },
  {
   "cell_type": "markdown",
   "id": "ab699d68",
   "metadata": {},
   "source": [
    "# Day -13"
   ]
  },
  {
   "cell_type": "markdown",
   "id": "d9a066b4",
   "metadata": {},
   "source": [
    "# String Methods\n",
    "#### Python provides set of built-in function to alter and modify the strings.\n",
    "    1.upper()       6.split()       11.find()       16.isprintable()\n",
    "    2.lower()       7.capitalize()  12.index()      17.isspace()\n",
    "    3.strip()       8.center()      13.isalnum()    18.istitle()\n",
    "    4.rstrip()      9.count()       14.isalpha()\n",
    "    5.replace()     10.endswith()   15.islower()"
   ]
  },
  {
   "cell_type": "code",
   "execution_count": null,
   "id": "6cb11616",
   "metadata": {},
   "outputs": [
    {
     "name": "stdout",
     "output_type": "stream",
     "text": [
      "HAPPY TEACHERS DAY,HAPPY ONAM\n"
     ]
    }
   ],
   "source": [
    "# 1.upper()- it converts whole string to uppercase.\n",
    "str=\"Happy teachers day,happy onam\"\n",
    "print(str.upper())"
   ]
  },
  {
   "cell_type": "code",
   "execution_count": 20,
   "id": "02ecc8f9",
   "metadata": {},
   "outputs": [
    {
     "name": "stdout",
     "output_type": "stream",
     "text": [
      "i love technical and practical subjects.\n"
     ]
    }
   ],
   "source": [
    "# 2.lower()- it converts whole string to lowercase\n",
    "str1='I Love TECHNICAL AND PRACTICAL SUBJECTS.'\n",
    "print(str1.lower())"
   ]
  },
  {
   "cell_type": "code",
   "execution_count": 22,
   "id": "9162e854",
   "metadata": {},
   "outputs": [
    {
     "name": "stdout",
     "output_type": "stream",
     "text": [
      "  Hey, You look so gorgeous  \n",
      "Hey, You look so gorgeous\n"
     ]
    }
   ],
   "source": [
    "# 3.strip()- removes any white space before and after string\n",
    "str=\"  Hey, You look so gorgeous  \"\n",
    "print(str)\n",
    "print(str.strip())"
   ]
  },
  {
   "cell_type": "code",
   "execution_count": 24,
   "id": "72218c8c",
   "metadata": {},
   "outputs": [
    {
     "name": "stdout",
     "output_type": "stream",
     "text": [
      "!!!! i love you !!!!\n",
      "!!!! I LOVE YOU !!!!\n",
      "!!!! I LOVE YOU \n"
     ]
    }
   ],
   "source": [
    "# 4 rstrip()- remove any trailing character but not leading character.\n",
    "me='!!!! i love you !!!!'\n",
    "print(me)\n",
    "print(me.upper())\n",
    "print(me.upper().rstrip('!'))"
   ]
  },
  {
   "cell_type": "code",
   "execution_count": 26,
   "id": "71bd68c5",
   "metadata": {},
   "outputs": [
    {
     "name": "stdout",
     "output_type": "stream",
     "text": [
      "Silver Spoon Spoon !!\n",
      "Silver Moon Moon !!\n"
     ]
    }
   ],
   "source": [
    "# 5.replace()- it replaces all occurance of a string or part of string with another string.\n",
    "str=\"Silver Spoon Spoon !!\"\n",
    "print(str)\n",
    "print(str.replace('Sp','M'))"
   ]
  },
  {
   "cell_type": "code",
   "execution_count": 33,
   "id": "50db5da5",
   "metadata": {},
   "outputs": [
    {
     "name": "stdout",
     "output_type": "stream",
     "text": [
      "Hey Everyone, it's fun learnig python !!! \n",
      "\n",
      "['Hey', 'Everyone,', \"it's\", 'fun', 'learnig', 'python', '!!!'] \n",
      "\n",
      "['Hey Everyone', \" it's fun learnig python !!!\"]\n"
     ]
    }
   ],
   "source": [
    "# 6. split()- it splits given string at the specified instance and returns the splitted string as list items.\n",
    "str=\"Hey Everyone, it's fun learnig python !!!\"\n",
    "print(str,'\\n')\n",
    "print(str.split(),'\\n')\n",
    "print(str.split(','))"
   ]
  },
  {
   "cell_type": "code",
   "execution_count": 36,
   "id": "58d34905",
   "metadata": {},
   "outputs": [
    {
     "name": "stdout",
     "output_type": "stream",
     "text": [
      "welCOme To MY CHANNEL!!\n",
      "Welcome to my channel!!\n"
     ]
    }
   ],
   "source": [
    "# 7. capitalize()- it turns the first charachter to uppercase and rest of string turned to lowercase.\n",
    "#    The  string has no effect if  first character is already in uppercase.\n",
    "str=\"welCOme To MY CHANNEL!!\" \n",
    "print(str)\n",
    "print(str.capitalize())"
   ]
  },
  {
   "cell_type": "code",
   "execution_count": 43,
   "id": "613fcc2d",
   "metadata": {},
   "outputs": [
    {
     "name": "stdout",
     "output_type": "stream",
     "text": [
      "Welcome to the Console\n",
      "  Welcome to the Console  \n"
     ]
    }
   ],
   "source": [
    "# 8. center()- aligns the string to center as per the parameter given by the user.\n",
    "str=\"Welcome to the Console\"\n",
    "print(str)\n",
    "print(str.center(26))"
   ]
  },
  {
   "cell_type": "code",
   "execution_count": 46,
   "id": "310c5174",
   "metadata": {},
   "outputs": [
    {
     "name": "stdout",
     "output_type": "stream",
     "text": [
      "too much consumption of tea and coffee can result in deficiency of \n",
      "\n",
      "o occured in given string 7 times\n"
     ]
    }
   ],
   "source": [
    "# 9. count()- it returns the no. of times the given value has occured withinn the given string.\n",
    "str=\"too much consumption of tea and coffee can result in deficiency of\"\n",
    "print(str,'\\n')\n",
    "print('o occured in given string',str.count('o'),'times')"
   ]
  },
  {
   "cell_type": "code",
   "execution_count": 54,
   "id": "45aa54f4",
   "metadata": {},
   "outputs": [
    {
     "name": "stdout",
     "output_type": "stream",
     "text": [
      "welcome to the console!!! \n",
      "\n",
      "True .Yes the given string end with ! \n",
      "\n",
      "False .No string not endwith o \n",
      "\n",
      "Hello, Everyone its me!!! \n",
      "\n",
      "True\n"
     ]
    }
   ],
   "source": [
    "# 10. endswith()- it checks if the string ends with a given value if yes then return True ,else return false.\n",
    "str=\"welcome to the console!!!\"\n",
    "print(str,'\\n')\n",
    "print(str.endswith('!'),'.Yes the given string end with !','\\n')\n",
    "print(str.endswith('o'),'.No string not endwith o','\\n')\n",
    "\n",
    "# Note: \n",
    "# We can even alsao check for a value in between the string by providing start and end index position.\n",
    "str5='Hello, Everyone its me!!!'\n",
    "print(str5,'\\n')\n",
    "print(str5.endswith('one',12,15))"
   ]
  },
  {
   "cell_type": "code",
   "execution_count": 58,
   "id": "a19e80a3",
   "metadata": {},
   "outputs": [
    {
     "name": "stdout",
     "output_type": "stream",
     "text": [
      "He's name is Dan. He is an honest man \n",
      "\n",
      "3 \n",
      "\n",
      "-1\n"
     ]
    }
   ],
   "source": [
    "# 11. find()- it searches for the first occurrence of the given value and returns the index where it is present. \n",
    "# if given value is absent from the string then return -1.\n",
    "str=\"He's name is Dan. He is an honest man\"\n",
    "print(str,'\\n')\n",
    "print(str.find('s'),'\\n')\n",
    "print(str.find('d'))"
   ]
  },
  {
   "cell_type": "code",
   "execution_count": 59,
   "id": "1490c704",
   "metadata": {},
   "outputs": [
    {
     "name": "stdout",
     "output_type": "stream",
     "text": [
      "He's name is Dan. He is an honest man \n",
      "\n",
      "3 \n",
      "\n"
     ]
    },
    {
     "ename": "ValueError",
     "evalue": "substring not found",
     "output_type": "error",
     "traceback": [
      "\u001b[1;31m---------------------------------------------------------------------------\u001b[0m",
      "\u001b[1;31mValueError\u001b[0m                                Traceback (most recent call last)",
      "Cell \u001b[1;32mIn[59], line 5\u001b[0m\n\u001b[0;32m      3\u001b[0m \u001b[38;5;28mprint\u001b[39m(\u001b[38;5;28mstr\u001b[39m,\u001b[38;5;124m'\u001b[39m\u001b[38;5;130;01m\\n\u001b[39;00m\u001b[38;5;124m'\u001b[39m)\n\u001b[0;32m      4\u001b[0m \u001b[38;5;28mprint\u001b[39m(\u001b[38;5;28mstr\u001b[39m\u001b[38;5;241m.\u001b[39mindex(\u001b[38;5;124m'\u001b[39m\u001b[38;5;124ms\u001b[39m\u001b[38;5;124m'\u001b[39m),\u001b[38;5;124m'\u001b[39m\u001b[38;5;130;01m\\n\u001b[39;00m\u001b[38;5;124m'\u001b[39m)\n\u001b[1;32m----> 5\u001b[0m \u001b[38;5;28mprint\u001b[39m(\u001b[38;5;28;43mstr\u001b[39;49m\u001b[38;5;241;43m.\u001b[39;49m\u001b[43mindex\u001b[49m\u001b[43m(\u001b[49m\u001b[38;5;124;43m'\u001b[39;49m\u001b[38;5;124;43md\u001b[39;49m\u001b[38;5;124;43m'\u001b[39;49m\u001b[43m)\u001b[49m)\n",
      "\u001b[1;31mValueError\u001b[0m: substring not found"
     ]
    }
   ],
   "source": [
    "# 12. index()- same as find() but returns error when value not found.\n",
    "str=\"He's name is Dan. He is an honest man\"\n",
    "print(str,'\\n')\n",
    "print(str.index('s'),'\\n')\n",
    "print(str.index('d'))"
   ]
  },
  {
   "cell_type": "code",
   "execution_count": null,
   "id": "3bcb04e4",
   "metadata": {},
   "outputs": [],
   "source": []
  }
 ],
 "metadata": {
  "kernelspec": {
   "display_name": "Python 3",
   "language": "python",
   "name": "python3"
  },
  "language_info": {
   "codemirror_mode": {
    "name": "ipython",
    "version": 3
   },
   "file_extension": ".py",
   "mimetype": "text/x-python",
   "name": "python",
   "nbconvert_exporter": "python",
   "pygments_lexer": "ipython3",
   "version": "3.12.4"
  }
 },
 "nbformat": 4,
 "nbformat_minor": 5
}
