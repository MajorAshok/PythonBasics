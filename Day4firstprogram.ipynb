{
 "cells": [
  {
   "cell_type": "code",
   "execution_count": null,
   "id": "1a06cfbc",
   "metadata": {},
   "outputs": [],
   "source": [
    "# First Program \n",
    "print('hello world')"
   ]
  },
  {
   "cell_type": "code",
   "execution_count": null,
   "id": "49ff9f30",
   "metadata": {},
   "outputs": [],
   "source": [
    "# Day-5 Comment ,Escape sequence and Print statement\n",
    "# this is a comment - '#' is used to comment \n",
    "# to comment multiple lines at once ,select those lines and press ctrl+/ (forward slas)\n",
    "# multi line comment is done using triple  quote- '''this is a multiline comment '''\n",
    "#Escape sequence \n",
    "# 1.new line character- \\n \n",
    "#2. quote escap character- \\\n",
    "print('Hey, I am a good boy\\n\\\"You too\\\"')\n",
    "print('Hello',123,4321,000,sep='-',end='\\n')\n",
    "print('Ashok')"
   ]
  },
  {
   "cell_type": "markdown",
   "id": "5140b07b",
   "metadata": {},
   "source": [
    "# 6. Variables and Data types \n",
    "#### Variables are a container inside the memory that holds data.\n",
    "# Data Types \n",
    "#### Data Type specifies the type of value the variable holds.\n",
    "#### We can print the type of any variable using type() function. \n",
    "#### there are four types of Data types.\n",
    "    1. Numeric data : int, float, complex \n",
    "    2. Text Data : str\n",
    "    3. Boolean data: True, False\n",
    "    4. Sequenced Data: List, Tupple\n",
    "    5. Mapped Data : dictionary- collection of key-value pair enclosed within curly brackets."
   ]
  },
  {
   "cell_type": "markdown",
   "id": "6b5369fb",
   "metadata": {},
   "source": [
    "# 9. Typecasting \n",
    "#### The converstion of one datatype to another is known as the typcasting or type conversion.\n",
    "#### Functions used are as:\n",
    "     int(), float, str(), ord(), hex(), oct(), tupple(), list(), set(), dict() etc.\n",
    "#### Types:\n",
    "#### 1. Explicit Conversion- manually conversion using above built-in function. \n",
    "#### 2.Implicit Conversion- automatically conversion by python interpretor/compiler.\n",
    "#### Python converts a smaller data type to a higher data type to prevent data loss"
   ]
  },
  {
   "cell_type": "code",
   "execution_count": null,
   "id": "242d6a98",
   "metadata": {},
   "outputs": [],
   "source": [
    "# example:\n",
    "a=65\n",
    "type(a)\n",
    "b=str(65)\n",
    "\n",
    "c='Ashok'\n",
    "\n",
    "d=3.0\n",
    "\n",
    "e=int(3.0)\n"
   ]
  },
  {
   "cell_type": "code",
   "execution_count": null,
   "id": "5eddccd2",
   "metadata": {},
   "outputs": [],
   "source": [
    "type(b)"
   ]
  },
  {
   "cell_type": "code",
   "execution_count": null,
   "id": "748e5210",
   "metadata": {},
   "outputs": [],
   "source": [
    "type(c)"
   ]
  },
  {
   "cell_type": "code",
   "execution_count": null,
   "id": "da1439ee",
   "metadata": {},
   "outputs": [],
   "source": [
    "type(d)"
   ]
  },
  {
   "cell_type": "code",
   "execution_count": null,
   "id": "9890a83b",
   "metadata": {},
   "outputs": [],
   "source": [
    "type(e)"
   ]
  },
  {
   "cell_type": "markdown",
   "id": "58cae204",
   "metadata": {},
   "source": [
    "# 10. Taking User Input:\n",
    "#### In python, we can take a user input diectly by using input() function.\n",
    "#### This input finction always return a string.Hence, we have to typcast them whenever required to another datatype."
   ]
  },
  {
   "cell_type": "code",
   "execution_count": null,
   "id": "f7558440",
   "metadata": {},
   "outputs": [],
   "source": [
    "# Example:\n",
    "a=input('Enter your name: ')\n",
    "print('Your name is:',a)"
   ]
  },
  {
   "cell_type": "code",
   "execution_count": null,
   "id": "c34fdd1e",
   "metadata": {},
   "outputs": [],
   "source": [
    "x=input('Enter first no.')\n",
    "y=input('Enter second no.')\n",
    "print(x+y)\n",
    "\n",
    "# here to get output as a sum of x and y ,we typcast(this type of typcasting known as explicite typcasting) the variables.\n",
    "print(int(x)+int(y))"
   ]
  }
 ],
 "metadata": {
  "kernelspec": {
   "display_name": "Python 3",
   "language": "python",
   "name": "python3"
  },
  "language_info": {
   "codemirror_mode": {
    "name": "ipython",
    "version": 3
   },
   "file_extension": ".py",
   "mimetype": "text/x-python",
   "name": "python",
   "nbconvert_exporter": "python",
   "pygments_lexer": "ipython3",
   "version": "3.12.4"
  }
 },
 "nbformat": 4,
 "nbformat_minor": 5
}
