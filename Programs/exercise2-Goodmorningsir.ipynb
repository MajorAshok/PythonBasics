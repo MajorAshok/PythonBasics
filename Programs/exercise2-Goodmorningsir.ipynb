{
 "cells": [
  {
   "cell_type": "code",
   "execution_count": 12,
   "id": "3dd5ef55",
   "metadata": {},
   "outputs": [
    {
     "name": "stdout",
     "output_type": "stream",
     "text": [
      "2025-09-05 11:27:58.552764\n",
      "2025-09-05\n",
      "11:27:58.552764\n",
      "11:27:58\n",
      "11:27:58 AM\n",
      "05-09-25\n",
      "September 05, 25\n",
      "05 September,2025\n",
      "\n",
      "Good morning sir,it's 11:27:58 AM, 05 September 2025\n"
     ]
    }
   ],
   "source": [
    "from datetime import datetime\n",
    "now=datetime.now()\n",
    "print(now)\n",
    "print(now.date())\n",
    "print(now.time())\n",
    "print(now.strftime('%H:%M:%S')) # 24 hour format\n",
    "print(now.strftime('%I:%M:%S %p')) # 12 hour format with am .pm\n",
    "\n",
    "print(now.strftime('%d-%m-%y'))\n",
    "print(now.strftime('%B %d, %y'))\n",
    "print(now.strftime('%d %B,%Y'))\n",
    "#print(now.strftime('%h:%m:%s'))\n",
    "\n",
    "\n",
    "\"\"\" datetime.now() - gives you the full date time \n",
    "    .strftime() --> lets you formate it as string.\n",
    "    .date() --> gives you only the date as a date object\"\"\"\n",
    "\n",
    "print()\n",
    "if now.strftime('%H:%M:%S')<'12:00:00':\n",
    "    print(f\"Good morning sir,it's {now.strftime('%I:%M:%S %p')},{now. strftime(' %d %B %Y')}\")\n",
    "elif now.strftime('%H:%M:%S')>='12:00:00' or now.strftime('%H:%M:%S')<'17:00:00':\n",
    "    print(f\"Good afternoon sir,it's {now.strftime('%I:%M:%S %p')},{now.strftime(' %d %B %Y')}\")\n",
    "elif now.strftime('%H:%M:%S')>='17:00:00' or now.strftime('%H:%M:%S')<'20:00:00':\n",
    "    print(f\"Good evening sir,it's {now.strftime('%I:%M:%S %p')},{now.strftime(' %d %B %Y')}\")\n",
    "else:\n",
    "    print(f\"Good night sir,it's {now.strftime('%I:%M:%S %p')},{now.strftime(' %d %B %Y')}\")\n"
   ]
  },
  {
   "cell_type": "code",
   "execution_count": null,
   "id": "597b6d36",
   "metadata": {},
   "outputs": [],
   "source": []
  }
 ],
 "metadata": {
  "kernelspec": {
   "display_name": "Python 3",
   "language": "python",
   "name": "python3"
  },
  "language_info": {
   "codemirror_mode": {
    "name": "ipython",
    "version": 3
   },
   "file_extension": ".py",
   "mimetype": "text/x-python",
   "name": "python",
   "nbconvert_exporter": "python",
   "pygments_lexer": "ipython3",
   "version": "3.12.4"
  }
 },
 "nbformat": 4,
 "nbformat_minor": 5
}
