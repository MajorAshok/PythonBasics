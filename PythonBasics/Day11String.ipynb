{
 "cells": [
  {
   "cell_type": "markdown",
   "id": "2a52e073",
   "metadata": {},
   "source": [
    "# Day-11"
   ]
  },
  {
   "cell_type": "markdown",
   "id": "af50018d",
   "metadata": {},
   "source": [
    "# 11. Strings in Python.\n",
    "#### In pyhton anything that we enclose between single or double quotation marks is known as string.\n",
    "#### A string is eventually a sequance or array of textual data.\n",
    "##### Sometimes the user might need to put a quotation marks in between the strings.\n",
    "##### example consider the following sentence.\n",
    "##### He said, \"I want to eat an Apple\".\n",
    "##### We definitely use single quotes or double quotes for our convenience."
   ]
  },
  {
   "cell_type": "code",
   "execution_count": null,
   "id": "82cfa86a",
   "metadata": {},
   "outputs": [],
   "source": [
    "# Example\n",
    "print('He said,\"I want to eat an apple\".')\n",
    "print(\"He said,'I want to eat an apple'.\")"
   ]
  },
  {
   "cell_type": "markdown",
   "id": "63ea00ce",
   "metadata": {},
   "source": [
    "# Multiline Strings \n",
    "##### If our string has multiline lines, we can create them like this.\n",
    "\"\"\" This is multiline string. Enclosed between single or double three quotation marks.In the same way, we can also create multiline comment.\"\"\""
   ]
  },
  {
   "cell_type": "markdown",
   "id": "89e754a3",
   "metadata": {},
   "source": [
    "# Accessing Character of a string.\n",
    "#### In python, String is like an array of characters we can access parts of string by using its index which starts from 0."
   ]
  },
  {
   "cell_type": "code",
   "execution_count": null,
   "id": "ee2b1863",
   "metadata": {},
   "outputs": [],
   "source": [
    "# Example \n",
    "a='Hii Everyone'\n",
    "print(a[0])\n",
    "print(a[4])\n",
    "print(a[8])\n",
    "print(a[-4])\n",
    "print(a[-8])"
   ]
  },
  {
   "cell_type": "markdown",
   "id": "311afd3e",
   "metadata": {},
   "source": [
    "# Looping through the string.\n",
    "#### We can loop through strings using a for loop like this:"
   ]
  },
  {
   "cell_type": "code",
   "execution_count": null,
   "id": "a9e95833",
   "metadata": {},
   "outputs": [],
   "source": [
    "# Example\n",
    "name=\"Ashok\"\n",
    "for character in name:\n",
    "    print(character)"
   ]
  },
  {
   "cell_type": "markdown",
   "id": "05f1d40d",
   "metadata": {},
   "source": [
    "# Day-12"
   ]
  },
  {
   "cell_type": "markdown",
   "id": "c5a623e0",
   "metadata": {},
   "source": [
    "# String Slicing and operations on string in Python.\n",
    "#### Length of string\n",
    "##### We can find length of a string using len() function."
   ]
  },
  {
   "cell_type": "code",
   "execution_count": null,
   "id": "15c12548",
   "metadata": {},
   "outputs": [],
   "source": [
    "# example.\n",
    "name=\"Ashok pal\"\n",
    "length=len(name)  # white space is also counted as character. \n",
    "print('My name is ',length,'letter word')\n",
    "print()\n",
    "print(name[:3])\n",
    "print(name[2:7])\n",
    "\n",
    "# Negative slicing\n",
    "fruit='Mango'\n",
    "print(fruit[0:-4])\n",
    "\"\"\"Output M why?. \n",
    "So firstly let's understand how python interprets it. \n",
    "This [-4] python interpreter automatically adds the len(fruit) which implies that,[0:len(fruit)-4]\n",
    ",[0:1]\"\"\"\n",
    "print(fruit[-3:4])\n",
    "print(fruit[-4:-2])"
   ]
  },
  {
   "cell_type": "markdown",
   "id": "ab699d68",
   "metadata": {},
   "source": [
    "# Day -13"
   ]
  },
  {
   "cell_type": "markdown",
   "id": "d9a066b4",
   "metadata": {},
   "source": [
    "# String Methods\n",
    "#### Python provides set of built-in function to alter and modify the strings.\n",
    "    1.upper()       6.split()       11.find()       16.isprintable()    21.swapcase()\n",
    "    2.lower()       7.capitalize()  12.index()      17.isspace()        22.title()\n",
    "    3.strip()       8.center()      13.isalnum()    18.istitle()\n",
    "    4.rstrip()      9.count()       14.isalpha()    19.isupper()\n",
    "    5.replace()     10.endswith()   15.islower()    20.startswith()"
   ]
  },
  {
   "cell_type": "code",
   "execution_count": null,
   "id": "6cb11616",
   "metadata": {},
   "outputs": [],
   "source": [
    "# 1.upper()- it converts whole string to uppercase.\n",
    "str=\"Happy teachers day,happy onam\"\n",
    "print(str.upper())"
   ]
  },
  {
   "cell_type": "code",
   "execution_count": null,
   "id": "02ecc8f9",
   "metadata": {},
   "outputs": [],
   "source": [
    "# 2.lower()- it converts whole string to lowercase\n",
    "str1='I Love TECHNICAL AND PRACTICAL SUBJECTS.'\n",
    "print(str1.lower())"
   ]
  },
  {
   "cell_type": "code",
   "execution_count": null,
   "id": "9162e854",
   "metadata": {},
   "outputs": [],
   "source": [
    "# 3.strip()- removes any white space before and after string\n",
    "str=\"  Hey, You look so gorgeous  \"\n",
    "print(str)\n",
    "print(str.strip())"
   ]
  },
  {
   "cell_type": "code",
   "execution_count": null,
   "id": "72218c8c",
   "metadata": {},
   "outputs": [],
   "source": [
    "# 4 rstrip()- remove any trailing character but not leading character.\n",
    "me='!!!! i love you !!!!'\n",
    "print(me)\n",
    "print(me.upper())\n",
    "print(me.upper().rstrip('!'))"
   ]
  },
  {
   "cell_type": "code",
   "execution_count": null,
   "id": "71bd68c5",
   "metadata": {},
   "outputs": [],
   "source": [
    "# 5.replace()- it replaces all occurance of a string or part of string with another string.\n",
    "str=\"Silver Spoon Spoon !!\"\n",
    "print(str)\n",
    "print(str.replace('Sp','M'))"
   ]
  },
  {
   "cell_type": "code",
   "execution_count": null,
   "id": "50db5da5",
   "metadata": {},
   "outputs": [],
   "source": [
    "# 6. split()- it splits given string at the specified instance and returns the splitted string as list items.\n",
    "str=\"Hey Everyone, it's fun learnig python !!!\"\n",
    "print(str,'\\n')\n",
    "print(str.split(),'\\n')\n",
    "print(str.split(','))"
   ]
  },
  {
   "cell_type": "code",
   "execution_count": null,
   "id": "58d34905",
   "metadata": {},
   "outputs": [],
   "source": [
    "# 7. capitalize()- it turns the first charachter to uppercase and rest of string turned to lowercase.\n",
    "#    The  string has no effect if  first character is already in uppercase.\n",
    "str=\"welCOme To MY CHANNEL!!\" \n",
    "print(str)\n",
    "print(str.capitalize())"
   ]
  },
  {
   "cell_type": "code",
   "execution_count": null,
   "id": "613fcc2d",
   "metadata": {},
   "outputs": [],
   "source": [
    "# 8. center()- aligns the string to center as per the parameter given by the user.\n",
    "str=\"Welcome to the Console\"\n",
    "print(str)\n",
    "print(str.center(26))"
   ]
  },
  {
   "cell_type": "code",
   "execution_count": null,
   "id": "310c5174",
   "metadata": {},
   "outputs": [],
   "source": [
    "# 9. count()- it returns the no. of times the given value has occured withinn the given string.\n",
    "str=\"too much consumption of tea and coffee can result in deficiency of\"\n",
    "print(str,'\\n')\n",
    "print('o occured in given string',str.count('o'),'times')"
   ]
  },
  {
   "cell_type": "code",
   "execution_count": null,
   "id": "45aa54f4",
   "metadata": {},
   "outputs": [],
   "source": [
    "# 10. endswith()- it checks if the string ends with a given value if yes then return True ,else return false.\n",
    "str=\"welcome to the console!!!\"\n",
    "print(str,'\\n')\n",
    "print(str.endswith('!'),'.Yes the given string end with !','\\n')\n",
    "print(str.endswith('o'),'.No string not endwith o','\\n')\n",
    "\n",
    "# Note: \n",
    "# We can even alsao check for a value in between the string by providing start and end index position.\n",
    "str5='Hello, Everyone its me!!!'\n",
    "print(str5,'\\n')\n",
    "print(str5.endswith('one',12,15))"
   ]
  },
  {
   "cell_type": "code",
   "execution_count": null,
   "id": "a19e80a3",
   "metadata": {},
   "outputs": [],
   "source": [
    "# 11. find()- it searches for the first occurrence of the given value and returns the index where it is present. \n",
    "# if given value is absent from the string then return -1.\n",
    "str=\"He's name is Dan. He is an honest man\"\n",
    "print(str,'\\n')\n",
    "print(str.find('s'),'\\n')\n",
    "print(str.find('d'))"
   ]
  },
  {
   "cell_type": "code",
   "execution_count": null,
   "id": "1490c704",
   "metadata": {},
   "outputs": [],
   "source": [
    "# 12. index()- same as find() but returns error when value not found.\n",
    "str=\"He's name is Dan. He is an honest man\"\n",
    "print(str,'\\n')\n",
    "print(str.index('s'),'\\n')\n",
    "print(str.index('d'))"
   ]
  },
  {
   "cell_type": "code",
   "execution_count": null,
   "id": "3bcb04e4",
   "metadata": {},
   "outputs": [],
   "source": [
    "# 13. isalnum()- returns True only if the entire string consists  of A-Z, a-z, 0-9. \n",
    "# if any other characters or punctuations are present ,then it reurn False.\n",
    "str=\"099Welcometomyprofile\"\n",
    "print(str,'\\n')\n",
    "print(str.isalnum(),'\\n')\n",
    "str1=\"welcom to myprofile\"\n",
    "print(str1,'\\n')\n",
    "print(str1.isalnum(),'\\n')\n",
    "str2=\"welcomto_myprofile#\"\n",
    "print(str2,'\\n')\n",
    "print(str2.isalnum())\n"
   ]
  },
  {
   "cell_type": "code",
   "execution_count": null,
   "id": "514290d5",
   "metadata": {},
   "outputs": [],
   "source": [
    "# 14. isalpha()- return True only if string consists A-Z , a-z .\n",
    "# if any other character or number 0-9 it return False.\n",
    "str=\"nowiwantacupoftea\"\n",
    "print(str,'\\n')\n",
    "print(str.isalpha(),'\\n')\n",
    "str1=\"now i want a cup of tea\"\n",
    "print(str1,'\\n')\n",
    "print(str1.isalpha())"
   ]
  },
  {
   "cell_type": "code",
   "execution_count": null,
   "id": "8a4a7951",
   "metadata": {},
   "outputs": [],
   "source": [
    "# 15. islower()- returns True if all the charachters in string is in lowercase,else return False.\n",
    "str=\"ashokashok\"\n",
    "str1=\"AshokAshok\"\n",
    "print(str.islower())\n",
    "print(str1.islower())\n",
    "print(str.upper())\n",
    "print(str.capitalize())"
   ]
  },
  {
   "cell_type": "code",
   "execution_count": null,
   "id": "1566389f",
   "metadata": {},
   "outputs": [],
   "source": [
    "# 16. isprintable()- returns True if all the charachters within the given string is printable.\n",
    "# if not,then return false.\n",
    "str=\"Non-printable charachters are charachters that don't have a visuale representation\" \n",
    "print(str.isprintable(),'\\n')\n",
    "str1=\"Some example of non-printable charachters are- i. newline- \\n ii. \\t etc.\"\n",
    "print(str1.isprintable())\n"
   ]
  },
  {
   "cell_type": "code",
   "execution_count": null,
   "id": "c3da6fdd",
   "metadata": {},
   "outputs": [],
   "source": [
    "# 17. isspace()- returns True iff string consists white space character in it.\n",
    "str=\" hey, this contain white space b ut with characters\"\n",
    "print(str.isspace())\n",
    "str2=\"     \"\n",
    "print(str2.isspace())"
   ]
  },
  {
   "cell_type": "code",
   "execution_count": null,
   "id": "ad2e6a5b",
   "metadata": {},
   "outputs": [],
   "source": [
    "#18. istitle()- returns True only if the first letter of each word of the string is capitalized else False.\n",
    "str=\"World Health Organization\"\n",
    "print(str.center(36))\n",
    "print(str.istitle())\n",
    "str2=\"world Health Organization\"\n",
    "print(str2.capitalize())"
   ]
  },
  {
   "cell_type": "code",
   "execution_count": null,
   "id": "fbabd2c8",
   "metadata": {},
   "outputs": [],
   "source": [
    "# 19. isupper()- returns True if all charachter in string is in uppercase.\n",
    "str=\"Ashok\"\n",
    "print(str.isupper())\n",
    "print(str.upper())\n",
    "str1=\"ASHOK PAL\"\n",
    "print(str1.isupper())"
   ]
  },
  {
   "cell_type": "code",
   "execution_count": null,
   "id": "267a561e",
   "metadata": {},
   "outputs": [],
   "source": [
    "# 20. startswith()- check if the string starts with a given value, if yes then return else false.\n",
    "str= \"Python is interprated language\"\n",
    "print(str.startswith('P'))"
   ]
  },
  {
   "cell_type": "code",
   "execution_count": null,
   "id": "92cc133d",
   "metadata": {},
   "outputs": [],
   "source": [
    "# 21. swapcase()- converts lowercase to uppercase and uppercase to lowercase.\n",
    "str=\" World Health Organization\"\n",
    "print(str.swapcase())\n",
    "str1= \"Python is interprated Language\"\n",
    "print(str1.swapcase())"
   ]
  },
  {
   "cell_type": "code",
   "execution_count": null,
   "id": "4c472760",
   "metadata": {},
   "outputs": [],
   "source": [
    "# 22. title()- capitalizes first letter of each word within string.\n",
    "str=\" world health organization\"\n",
    "print(str,'\\n')\n",
    "print(str.title().center(36))"
   ]
  },
  {
   "cell_type": "code",
   "execution_count": null,
   "id": "de47f15b",
   "metadata": {},
   "outputs": [],
   "source": []
  }
 ],
 "metadata": {
  "kernelspec": {
   "display_name": "Python 3",
   "language": "python",
   "name": "python3"
  },
  "language_info": {
   "codemirror_mode": {
    "name": "ipython",
    "version": 3
   },
   "file_extension": ".py",
   "mimetype": "text/x-python",
   "name": "python",
   "nbconvert_exporter": "python",
   "pygments_lexer": "ipython3",
   "version": "3.12.4"
  }
 },
 "nbformat": 4,
 "nbformat_minor": 5
}
